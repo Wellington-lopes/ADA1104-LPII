{
  "cells": [
    {
      "cell_type": "markdown",
      "metadata": {
        "id": "WHjF7iLggmyf"
      },
      "source": [
        "Resolva de forma mais eficiente e sucinta usando listas e/ou tuplas:\n",
        "\n",
        "1. Faça um programa que olhe todos os itens de uma lista e diga quantos deles são pares."
      ]
    },
    {
      "cell_type": "code",
      "execution_count": 2,
      "metadata": {
        "colab": {
          "base_uri": "https://localhost:8080/",
          "height": 35
        },
        "id": "NbcYevpigmyh",
        "outputId": "00f6a2ba-13d2-40c3-b1cc-0efa50f3a76e"
      },
      "outputs": [
        {
          "output_type": "execute_result",
          "data": {
            "text/plain": [
              "'A lista possui 18 números pares.'"
            ],
            "application/vnd.google.colaboratory.intrinsic+json": {
              "type": "string"
            }
          },
          "metadata": {},
          "execution_count": 2
        }
      ],
      "source": [
        "lista_numeros = list(range(35))\n",
        "\n",
        "def contar_pares(lista):\n",
        "    contagem = [n for n in lista if n % 2 == 0]\n",
        "    return f'A lista tem {len(contagem)} números pares.'\n",
        "\n",
        "contar_pares(lista_numeros)\n"
      ]
    },
    {
      "cell_type": "markdown",
      "metadata": {
        "id": "-pG7bYLogmyi"
      },
      "source": [
        "2. Faça um programa que imprima o maior número de uma lista, sem usar o método max()"
      ]
    },
    {
      "cell_type": "code",
      "execution_count": 4,
      "metadata": {
        "colab": {
          "base_uri": "https://localhost:8080/"
        },
        "id": "M9EHEWxLgmyi",
        "outputId": "0c9f7339-a48b-4c6b-f66c-f3fc09422d0e"
      },
      "outputs": [
        {
          "output_type": "stream",
          "name": "stdout",
          "text": [
            "O número máximo da lista é 99\n"
          ]
        }
      ],
      "source": [
        "lista2 = [2, 8, 13, 20, 36, 99, 55, 66, 33]\n",
        "\n",
        "lista2.sort()\n",
        "print(f'O número máximo da lista é {lista2[-1]}')"
      ]
    },
    {
      "cell_type": "markdown",
      "metadata": {
        "id": "MXiAxTBrgmyj"
      },
      "source": [
        "3. Faça um Programa que peça as 4 notas bimestrais e mostre a média, usando listas."
      ]
    },
    {
      "cell_type": "code",
      "execution_count": 5,
      "metadata": {
        "colab": {
          "base_uri": "https://localhost:8080/",
          "height": 105
        },
        "id": "IVeRwCdtgmyj",
        "outputId": "e7e8eb70-18aa-4c9a-ceb4-8aa971906841"
      },
      "outputs": [
        {
          "name": "stdout",
          "output_type": "stream",
          "text": [
            "Qual a nota 1: 10\n",
            "Qual a nota 2: 8\n",
            "Qual a nota 3: 9\n",
            "Qual a nota 4: 10\n"
          ]
        },
        {
          "output_type": "execute_result",
          "data": {
            "text/plain": [
              "'A média do aluno é 9.25'"
            ],
            "application/vnd.google.colaboratory.intrinsic+json": {
              "type": "string"
            }
          },
          "metadata": {},
          "execution_count": 5
        }
      ],
      "source": [
        "def calcular_media():\n",
        "\n",
        "    notas = [float(input(f'Qual a nota {i+1}: ')) for i in range(4)]\n",
        "    media = sum(notas)/len(notas)\n",
        "    return f'A média do aluno é {media}'\n",
        "\n",
        "calcular_media()\n"
      ]
    },
    {
      "cell_type": "markdown",
      "metadata": {
        "id": "X4qKJ-Ovgmyk"
      },
      "source": [
        "4. Considere que temos uma lista com os nomes de todos os alunos de uma turma, e outra com as notas, na mesma ordem. Como faríamos para acessar, simultaneamente, o nome de um aluno e a sua nota?"
      ]
    },
    {
      "cell_type": "code",
      "execution_count": 6,
      "metadata": {
        "colab": {
          "base_uri": "https://localhost:8080/"
        },
        "id": "xeY9PeBhgmyl",
        "outputId": "ae4806bd-b619-4126-8349-58d2c1d569e3"
      },
      "outputs": [
        {
          "output_type": "stream",
          "name": "stdout",
          "text": [
            "Carol 10\n",
            "Well 9\n",
            "Jonathan 8\n",
            "Bruna 7\n",
            "Richard 5\n",
            "Nubia 6\n",
            "Rafael 3\n"
          ]
        }
      ],
      "source": [
        "nomes = ['Carol', 'Well', 'Jonathan', 'Bruna', 'Richard', 'Nubia', 'Rafael']\n",
        "notas = [10, 9, 8, 7, 5, 6, 3]\n",
        "\n",
        "for nome, nota in zip(nomes, notas):\n",
        "    print(nome, nota)\n",
        "\n"
      ]
    }
  ],
  "metadata": {
    "kernelspec": {
      "display_name": "Python 3",
      "language": "python",
      "name": "python3"
    },
    "language_info": {
      "codemirror_mode": {
        "name": "ipython",
        "version": 3
      },
      "file_extension": ".py",
      "mimetype": "text/x-python",
      "name": "python",
      "nbconvert_exporter": "python",
      "pygments_lexer": "ipython3",
      "version": "3.11.4"
    },
    "colab": {
      "provenance": []
    }
  },
  "nbformat": 4,
  "nbformat_minor": 0
}